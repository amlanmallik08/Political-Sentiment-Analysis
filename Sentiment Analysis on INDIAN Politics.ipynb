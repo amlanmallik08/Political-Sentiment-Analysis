{
 "cells": [
  {
   "cell_type": "code",
   "execution_count": null,
   "id": "3c592bbf",
   "metadata": {},
   "outputs": [],
   "source": [
    "#importing modules\n",
    "\n",
    "import pandas as pd\n",
    "import numpy as np\n",
    "import re\n",
    "import matplotlib.pyplot as plt\n",
    "import nltk\n",
    "from nltk.corpus import stopwords\n",
    "from textblob import TextBlob\n",
    "from wordcloud import WordCloud\n",
    "from nltk.tokenize import word_tokenize\n",
    "pd.options.display.max_colwidth=1000 # data processing, CSV file I/O (e.g. pd.read_csv)\n",
    "\n",
    "# Input data files are available in the read-only \"../input/\" directory\n",
    "# For example, running this (by clicking run or pressing Shift+Enter) will list all files under the input directory\n",
    "\n",
    "import os\n",
    "for dirname, _, filenames in os.walk('\"C:\\Users\\amlan\\Sentimental Analysis on Indian politics dataset\"'):\n",
    "    for filename in filenames:\n",
    "        print(os.path.join(dirname, filename))"
   ]
  },
  {
   "cell_type": "code",
   "execution_count": 12,
   "id": "e843a519",
   "metadata": {},
   "outputs": [
    {
     "data": {
      "text/html": [
       "<div>\n",
       "<style scoped>\n",
       "    .dataframe tbody tr th:only-of-type {\n",
       "        vertical-align: middle;\n",
       "    }\n",
       "\n",
       "    .dataframe tbody tr th {\n",
       "        vertical-align: top;\n",
       "    }\n",
       "\n",
       "    .dataframe thead th {\n",
       "        text-align: right;\n",
       "    }\n",
       "</style>\n",
       "<table border=\"1\" class=\"dataframe\">\n",
       "  <thead>\n",
       "    <tr style=\"text-align: right;\">\n",
       "      <th></th>\n",
       "      <th>Date</th>\n",
       "      <th>User</th>\n",
       "      <th>Tweet</th>\n",
       "      <th>Time</th>\n",
       "    </tr>\n",
       "  </thead>\n",
       "  <tbody>\n",
       "    <tr>\n",
       "      <th>0</th>\n",
       "      <td>2022:10:19</td>\n",
       "      <td>QuestionsBotYT</td>\n",
       "      <td>Is Narendra Modi a toaster?</td>\n",
       "      <td>23:57:08</td>\n",
       "    </tr>\n",
       "    <tr>\n",
       "      <th>1</th>\n",
       "      <td>2022:10:19</td>\n",
       "      <td>PaperDabba</td>\n",
       "      <td>5G About To Bring Major Change, Will Revolutio...</td>\n",
       "      <td>23:56:38</td>\n",
       "    </tr>\n",
       "    <tr>\n",
       "      <th>2</th>\n",
       "      <td>2022:10:19</td>\n",
       "      <td>mnjworldcom123</td>\n",
       "      <td>Prime Minister Shri Narendra Modi along with H...</td>\n",
       "      <td>23:51:02</td>\n",
       "    </tr>\n",
       "    <tr>\n",
       "      <th>3</th>\n",
       "      <td>2022:10:19</td>\n",
       "      <td>BravePedestrian</td>\n",
       "      <td>Bharat Mata has waited 5000 years for a true s...</td>\n",
       "      <td>23:40:58</td>\n",
       "    </tr>\n",
       "    <tr>\n",
       "      <th>4</th>\n",
       "      <td>2022:10:19</td>\n",
       "      <td>NaMoPraveenKor</td>\n",
       "      <td>How Narendra Modi’s game-changing Gati Shakti ...</td>\n",
       "      <td>23:34:25</td>\n",
       "    </tr>\n",
       "    <tr>\n",
       "      <th>5</th>\n",
       "      <td>2022:10:19</td>\n",
       "      <td>xuenou</td>\n",
       "      <td>5G About To Bring Major Change, Will Revolutio...</td>\n",
       "      <td>23:32:05</td>\n",
       "    </tr>\n",
       "    <tr>\n",
       "      <th>6</th>\n",
       "      <td>2022:10:19</td>\n",
       "      <td>aammiitt2</td>\n",
       "      <td>Narendra Modi is Elon Musk of Politics.\\n\\nEnt...</td>\n",
       "      <td>23:25:20</td>\n",
       "    </tr>\n",
       "    <tr>\n",
       "      <th>7</th>\n",
       "      <td>2022:10:19</td>\n",
       "      <td>ChadhaMadan</td>\n",
       "      <td>@NamoApp Jai Hind , Jai Bhart, Bharat Mata ki ...</td>\n",
       "      <td>23:22:31</td>\n",
       "    </tr>\n",
       "    <tr>\n",
       "      <th>8</th>\n",
       "      <td>2022:10:19</td>\n",
       "      <td>mnjworldcom123</td>\n",
       "      <td>Prime Minister Shri Narendra Modi holds bilate...</td>\n",
       "      <td>23:20:57</td>\n",
       "    </tr>\n",
       "    <tr>\n",
       "      <th>9</th>\n",
       "      <td>2022:10:19</td>\n",
       "      <td>mnjworldcom123</td>\n",
       "      <td>Prime Minister Shri Narendra Modi interacted w...</td>\n",
       "      <td>23:18:59</td>\n",
       "    </tr>\n",
       "  </tbody>\n",
       "</table>\n",
       "</div>"
      ],
      "text/plain": [
       "         Date             User  \\\n",
       "0  2022:10:19   QuestionsBotYT   \n",
       "1  2022:10:19       PaperDabba   \n",
       "2  2022:10:19   mnjworldcom123   \n",
       "3  2022:10:19  BravePedestrian   \n",
       "4  2022:10:19   NaMoPraveenKor   \n",
       "5  2022:10:19           xuenou   \n",
       "6  2022:10:19        aammiitt2   \n",
       "7  2022:10:19      ChadhaMadan   \n",
       "8  2022:10:19   mnjworldcom123   \n",
       "9  2022:10:19   mnjworldcom123   \n",
       "\n",
       "                                               Tweet      Time  \n",
       "0                        Is Narendra Modi a toaster?  23:57:08  \n",
       "1  5G About To Bring Major Change, Will Revolutio...  23:56:38  \n",
       "2  Prime Minister Shri Narendra Modi along with H...  23:51:02  \n",
       "3  Bharat Mata has waited 5000 years for a true s...  23:40:58  \n",
       "4  How Narendra Modi’s game-changing Gati Shakti ...  23:34:25  \n",
       "5  5G About To Bring Major Change, Will Revolutio...  23:32:05  \n",
       "6  Narendra Modi is Elon Musk of Politics.\\n\\nEnt...  23:25:20  \n",
       "7  @NamoApp Jai Hind , Jai Bhart, Bharat Mata ki ...  23:22:31  \n",
       "8  Prime Minister Shri Narendra Modi holds bilate...  23:20:57  \n",
       "9  Prime Minister Shri Narendra Modi interacted w...  23:18:59  "
      ]
     },
     "execution_count": 12,
     "metadata": {},
     "output_type": "execute_result"
    }
   ],
   "source": [
    "df = pd.read_csv(\"C:\\\\Users\\\\amlan\\\\Sentimental Analysis on Indian politics dataset\\\\Namo.csv\")#df is a dataframe\n",
    "df.head(10) # df.head(x) function provides first x rows of df.By default head() first five rows. "
   ]
  },
  {
   "cell_type": "code",
   "execution_count": 13,
   "id": "35655602",
   "metadata": {},
   "outputs": [
    {
     "data": {
      "text/plain": [
       "(70000, 4)"
      ]
     },
     "execution_count": 13,
     "metadata": {},
     "output_type": "execute_result"
    }
   ],
   "source": [
    "df.shape #it  returns the dimension of the df"
   ]
  },
  {
   "cell_type": "code",
   "execution_count": 14,
   "id": "a145c6cf",
   "metadata": {},
   "outputs": [
    {
     "name": "stdout",
     "output_type": "stream",
     "text": [
      "<class 'pandas.core.frame.DataFrame'>\n",
      "RangeIndex: 70000 entries, 0 to 69999\n",
      "Data columns (total 4 columns):\n",
      " #   Column  Non-Null Count  Dtype \n",
      "---  ------  --------------  ----- \n",
      " 0   Date    70000 non-null  object\n",
      " 1   User    70000 non-null  object\n",
      " 2   Tweet   70000 non-null  object\n",
      " 3   Time    70000 non-null  object\n",
      "dtypes: object(4)\n",
      "memory usage: 2.1+ MB\n"
     ]
    }
   ],
   "source": [
    "df.info() #it gives the information of the input data"
   ]
  },
  {
   "cell_type": "code",
   "execution_count": 15,
   "id": "42854d97",
   "metadata": {},
   "outputs": [
    {
     "data": {
      "text/plain": [
       "Date     0\n",
       "User     0\n",
       "Tweet    0\n",
       "Time     0\n",
       "dtype: int64"
      ]
     },
     "execution_count": 15,
     "metadata": {},
     "output_type": "execute_result"
    }
   ],
   "source": [
    "df.isnull().sum() # df.isnull() returns if the coloumn has a null value. df.isnull().sum() returns the sum of the count of all null values "
   ]
  },
  {
   "cell_type": "markdown",
   "id": "d4314a46",
   "metadata": {},
   "source": [
    "we can observe that there is no null values"
   ]
  },
  {
   "cell_type": "markdown",
   "id": "65777e11",
   "metadata": {},
   "source": [
    "## Handling Regular Expression"
   ]
  },
  {
   "cell_type": "code",
   "execution_count": 16,
   "id": "e7317c03",
   "metadata": {},
   "outputs": [],
   "source": [
    "# Function for removing @user name ,http urls ,# like some symbols\n",
    "\n",
    "def remove_usernames_links(tweet):\n",
    "    s2 = re.sub('http://\\S+|https://\\S+', '', tweet)\n",
    "    s1=re.sub(r\"#[a-zA-Z0-9\\\\n@_\\s]+\",\"\",s2)\n",
    "    return s1  "
   ]
  },
  {
   "cell_type": "code",
   "execution_count": 17,
   "id": "b6e96a6e",
   "metadata": {},
   "outputs": [],
   "source": [
    "# Function for removing emoji\n",
    "\n",
    "def remove_emoji(txt):\n",
    "    emoj = re.compile(\"[\"\n",
    "        u\"\\U0001F600-\\U0001F64F\"  # emoticons\n",
    "        u\"\\U0001F300-\\U0001F5FF\"  # symbols & pictographs\n",
    "        u\"\\U0001F680-\\U0001F6FF\"  # transport & map symbols\n",
    "        u\"\\U0001F1E0-\\U0001F1FF\"  # flags (iOS)\n",
    "        u\"\\U00002500-\\U00002BEF\"  # chinese char\n",
    "        u\"\\U00002702-\\U000027B0\"\n",
    "        u\"\\U00002702-\\U000027B0\"\n",
    "        u\"\\U000024C2-\\U0001F251\"\n",
    "        u\"\\U0001f926-\\U0001f937\"\n",
    "        u\"\\U00010000-\\U0010ffff\"\n",
    "        u\"\\u2640-\\u2642\" \n",
    "        u\"\\u2600-\\u2B55\"\n",
    "        u\"\\u200d\"\n",
    "        u\"\\u23cf\"\n",
    "        u\"\\u23e9\"\n",
    "        u\"\\u231a\"\n",
    "        u\"\\ufe0f\"  # dingbats\n",
    "        u\"\\u3030\"\n",
    "                      \"]+\", re.UNICODE)\n",
    "    return re.sub(emoj, '', txt)"
   ]
  },
  {
   "cell_type": "code",
   "execution_count": 20,
   "id": "c72514e7",
   "metadata": {},
   "outputs": [
    {
     "name": "stderr",
     "output_type": "stream",
     "text": [
      "[nltk_data] Downloading package stopwords to\n",
      "[nltk_data]     C:\\Users\\amlan\\AppData\\Roaming\\nltk_data...\n",
      "[nltk_data]   Unzipping corpora\\stopwords.zip.\n"
     ]
    },
    {
     "data": {
      "text/plain": [
       "True"
      ]
     },
     "execution_count": 20,
     "metadata": {},
     "output_type": "execute_result"
    }
   ],
   "source": [
    "nltk.download('stopwords')"
   ]
  },
  {
   "cell_type": "code",
   "execution_count": 21,
   "id": "f86b354d",
   "metadata": {},
   "outputs": [
    {
     "name": "stdout",
     "output_type": "stream",
     "text": [
      "['i', 'me', 'my', 'myself', 'we', 'our', 'ours', 'ourselves', 'you', \"you're\", \"you've\", \"you'll\", \"you'd\", 'your', 'yours', 'yourself', 'yourselves', 'he', 'him', 'his', 'himself', 'she', \"she's\", 'her', 'hers', 'herself', 'it', \"it's\", 'its', 'itself', 'they', 'them', 'their', 'theirs', 'themselves', 'what', 'which', 'who', 'whom', 'this', 'that', \"that'll\", 'these', 'those', 'am', 'is', 'are', 'was', 'were', 'be', 'been', 'being', 'have', 'has', 'had', 'having', 'do', 'does', 'did', 'doing', 'a', 'an', 'the', 'and', 'but', 'if', 'or', 'because', 'as', 'until', 'while', 'of', 'at', 'by', 'for', 'with', 'about', 'against', 'between', 'into', 'through', 'during', 'before', 'after', 'above', 'below', 'to', 'from', 'up', 'down', 'in', 'out', 'on', 'off', 'over', 'under', 'again', 'further', 'then', 'once', 'here', 'there', 'when', 'where', 'why', 'how', 'all', 'any', 'both', 'each', 'few', 'more', 'most', 'other', 'some', 'such', 'no', 'nor', 'not', 'only', 'own', 'same', 'so', 'than', 'too', 'very', 's', 't', 'can', 'will', 'just', 'don', \"don't\", 'should', \"should've\", 'now', 'd', 'll', 'm', 'o', 're', 've', 'y', 'ain', 'aren', \"aren't\", 'couldn', \"couldn't\", 'didn', \"didn't\", 'doesn', \"doesn't\", 'hadn', \"hadn't\", 'hasn', \"hasn't\", 'haven', \"haven't\", 'isn', \"isn't\", 'ma', 'mightn', \"mightn't\", 'mustn', \"mustn't\", 'needn', \"needn't\", 'shan', \"shan't\", 'shouldn', \"shouldn't\", 'wasn', \"wasn't\", 'weren', \"weren't\", 'won', \"won't\", 'wouldn', \"wouldn't\"]\n"
     ]
    }
   ],
   "source": [
    "#using stopwords\n",
    "stp=stopwords.words('english')\n",
    "print(stp)"
   ]
  },
  {
   "cell_type": "code",
   "execution_count": null,
   "id": "a3de5573",
   "metadata": {},
   "outputs": [],
   "source": []
  },
  {
   "cell_type": "code",
   "execution_count": null,
   "id": "ddb92846",
   "metadata": {},
   "outputs": [],
   "source": []
  }
 ],
 "metadata": {
  "kernelspec": {
   "display_name": "Python 3 (ipykernel)",
   "language": "python",
   "name": "python3"
  },
  "language_info": {
   "codemirror_mode": {
    "name": "ipython",
    "version": 3
   },
   "file_extension": ".py",
   "mimetype": "text/x-python",
   "name": "python",
   "nbconvert_exporter": "python",
   "pygments_lexer": "ipython3",
   "version": "3.9.7"
  }
 },
 "nbformat": 4,
 "nbformat_minor": 5
}
